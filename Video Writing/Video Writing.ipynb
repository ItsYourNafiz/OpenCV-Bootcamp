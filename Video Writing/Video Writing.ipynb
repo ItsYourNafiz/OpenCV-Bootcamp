{
 "cells": [
  {
   "cell_type": "markdown",
   "id": "c98d5387",
   "metadata": {},
   "source": [
    "Writing a Video Using OpenCV"
   ]
  },
  {
   "cell_type": "code",
   "execution_count": 1,
   "id": "9fe81bb4",
   "metadata": {},
   "outputs": [],
   "source": [
    "#Import Libraries\n",
    "import cv2\n",
    "import matplotlib.pyplot as plt\n",
    "%matplotlib inline"
   ]
  },
  {
   "cell_type": "code",
   "execution_count": 2,
   "id": "22cdd174",
   "metadata": {},
   "outputs": [
    {
     "data": {
      "text/plain": [
       "<matplotlib.image.AxesImage at 0x1f1d53da100>"
      ]
     },
     "execution_count": 2,
     "metadata": {},
     "output_type": "execute_result"
    },
    {
     "data": {
      "image/png": "[encoded data removed]",
      "text/plain": [
       "<Figure size 640x480 with 1 Axes>"
      ]
     },
     "metadata": {},
     "output_type": "display_data"
    }
   ],
   "source": [
    "#Read a Video from Source\n",
    "src = \"RealRace.mp4\" #Source = 0 for Webcam\n",
    "\n",
    "cap = cv2.VideoCapture(src)\n",
    "\n",
    "if cap.isOpened() == False:\n",
    "    print(\"Error Opening Video Stream of File\")\n",
    "    \n",
    "#Read and Display One Frame\n",
    "ret, frame = cap.read()\n",
    "plt.imshow(frame[..., ::-1])"
   ]
  },
  {
   "cell_type": "code",
   "execution_count": 3,
   "id": "fa1b6294",
   "metadata": {},
   "outputs": [
    {
     "data": {
      "text/html": [
       " <video width = 1024 controls>\n",
       "<source src = \"RealRace.mp4\" type = \"video/mp4\">\n",
       "</video>"
      ],
      "text/plain": [
       "<IPython.core.display.HTML object>"
      ]
     },
     "execution_count": 3,
     "metadata": {},
     "output_type": "execute_result"
    }
   ],
   "source": [
    "#Display the Video from File\n",
    "from IPython.display import HTML\n",
    "HTML(\"\"\" <video width = 1024 controls>\n",
    "<source src = \"RealRace.mp4\" type = \"video/mp4\">\n",
    "</video>\"\"\")"
   ]
  },
  {
   "cell_type": "markdown",
   "id": "1eaf759b",
   "metadata": {},
   "source": [
    "Write Video Using OpenCV"
   ]
  },
  {
   "cell_type": "markdown",
   "id": "4170c669",
   "metadata": {},
   "source": [
    "For Writing The Video, We need to Create a Video Writer Object with Right Parameters"
   ]
  },
  {
   "cell_type": "code",
   "execution_count": 4,
   "id": "36c40ae8",
   "metadata": {},
   "outputs": [],
   "source": [
    "#Function Syntax --> VideoWriter object  = cv.VideoWriter(filename, fourcc, fps, framesize)"
   ]
  },
  {
   "cell_type": "markdown",
   "id": "c675f666",
   "metadata": {},
   "source": [
    "This Function 4 Required Parameters"
   ]
  },
  {
   "cell_type": "code",
   "execution_count": 5,
   "id": "1e03b076",
   "metadata": {},
   "outputs": [],
   "source": [
    "#1. filename: Name of The Output Video File\n",
    "#2. fourcc: 4-Character of codec used to compress the frames. \n",
    "#Example, VideoWriter::fourcc(\"P\",\"I\",\"M\",\"1\") is MPEG-1 Codec\n",
    "#VideoWriter::fourcc(\"P\",\"I\",\"M\",\"1\") is motion-jpeg codec. List od codes can be obtained at Video Codecs by FOURCC page.\n",
    "#FFMPEG backend with MP4 container natively uses other values as fourcc code: \n",
    "#see ObjectType, so we may recieve a warning message from OpenCVabout fourcc code conversion.\n",
    "\n",
    "#3. fps: Frame rate of the Created Video Stream\n",
    "#4. framesize: Size of the Video Frames"
   ]
  },
  {
   "cell_type": "code",
   "execution_count": 6,
   "id": "d48b4e81",
   "metadata": {},
   "outputs": [],
   "source": [
    "#Default Resolutions of the Frame are Obtained\n",
    "#Convert the Resolutions from float to Integer\n",
    "frame_width = int(cap.get(3))\n",
    "frame_height = int(cap.get(4))\n",
    "\n",
    "#Define the Codec and Create VideoWriter Object\n",
    "Out_AVI = cv2.VideoWriter(\"RealRace.avi\", cv2.VideoWriter_fourcc(\"M\",\"J\",\"P\",\"G\"), 10, (frame_width, frame_height))\n",
    "Out_MP4 = cv2.VideoWriter(\"RealRace.mp4\", cv2.VideoWriter_fourcc(* \"XVID\"), 10, (frame_width, frame_height))"
   ]
  },
  {
   "cell_type": "markdown",
   "id": "6d2834d7",
   "metadata": {},
   "source": [
    "Read Frames and Write to File"
   ]
  },
  {
   "cell_type": "code",
   "execution_count": 7,
   "id": "65b8386c",
   "metadata": {},
   "outputs": [],
   "source": [
    "#Read Untill Video is Completed\n",
    "while(cap.isOpened()):\n",
    "    ret, frame = cap.read() #Capture Frame by Frame\n",
    "    \n",
    "    if ret == True:\n",
    "        #Write The Frames to the Output Files\n",
    "        Out_AVI.write(frame)\n",
    "        Out_MP4.write(frame)\n",
    "        \n",
    "    else:\n",
    "        break\n",
    "        \n",
    "cap.release()\n",
    "Out_AVI.release()\n",
    "Out_MP4.release()\n",
    "    "
   ]
  }
 ],
 "metadata": {
  "kernelspec": {
   "display_name": "Python 3 (ipykernel)",
   "language": "python",
   "name": "python3"
  },
  "language_info": {
   "codemirror_mode": {
    "name": "ipython",
    "version": 3
   },
   "file_extension": ".py",
   "mimetype": "text/x-python",
   "name": "python",
   "nbconvert_exporter": "python",
   "pygments_lexer": "ipython3",
   "version": "3.9.13"
  }
 },
 "nbformat": 4,
 "nbformat_minor": 5
}
