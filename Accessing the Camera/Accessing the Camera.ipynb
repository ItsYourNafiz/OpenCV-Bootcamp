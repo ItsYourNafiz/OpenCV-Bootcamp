{
 "cells": [
  {
   "cell_type": "code",
   "execution_count": 9,
   "id": "43b62b0c",
   "metadata": {},
   "outputs": [],
   "source": [
    "#Import Libraries\n",
    "import numpy as np\n",
    "import pandas as pd\n",
    "import matplotlib.pyplot as plt\n",
    "import cv2\n",
    "from datetime import datetime\n",
    "from PIL import Image\n",
    "%matplotlib inline"
   ]
  },
  {
   "cell_type": "code",
   "execution_count": 10,
   "id": "9da4e9f8",
   "metadata": {},
   "outputs": [],
   "source": [
    "#Syntax --> cv2.namedWindow(window_name, flag)\n",
    "\n",
    "#window_name: Name of the window that will display image/video\n",
    "#flag:  Represents if window size is automatically set or adjustable\n",
    "\n",
    "#WINDOW_NORMAL – Allows to manually change window size\n",
    "#WINDOW_AUTOSIZE(Default) – Automatically sets the window size\n",
    "#WINDOW_FULLSCREEN – Changes the window size to fullscreen"
   ]
  },
  {
   "cell_type": "code",
   "execution_count": 11,
   "id": "36fb8bb3",
   "metadata": {
    "collapsed": true
   },
   "outputs": [
    {
     "name": "stdout",
     "output_type": "stream",
     "text": [
      "Camera connected!\n",
      "Camera connected!\n",
      "Camera connected!\n",
      "Camera connected!\n",
      "Camera connected!\n",
      "Camera connected!\n",
      "Camera connected!\n",
      "Camera connected!\n",
      "Camera connected!\n",
      "Camera connected!\n",
      "Camera connected!\n",
      "Camera connected!\n",
      "Camera connected!\n",
      "Camera connected!\n",
      "Camera connected!\n",
      "Camera connected!\n",
      "Camera connected!\n",
      "Camera connected!\n",
      "Camera connected!\n",
      "Camera connected!\n",
      "Camera connected!\n",
      "Camera connected!\n",
      "Camera connected!\n",
      "Camera connected!\n",
      "Camera connected!\n",
      "Camera connected!\n",
      "Camera connected!\n",
      "Camera connected!\n",
      "Camera connected!\n",
      "Camera connected!\n",
      "Camera connected!\n",
      "Camera connected!\n",
      "Camera connected!\n",
      "Camera connected!\n",
      "Camera connected!\n",
      "Camera connected!\n",
      "Camera connected!\n",
      "Camera connected!\n",
      "Camera connected!\n",
      "Camera connected!\n",
      "Camera connected!\n",
      "Camera connected!\n",
      "Camera connected!\n",
      "Camera connected!\n",
      "Camera connected!\n",
      "Camera connected!\n",
      "Camera connected!\n",
      "Camera connected!\n",
      "Camera connected!\n",
      "Camera connected!\n",
      "Camera connected!\n",
      "Camera connected!\n",
      "Camera connected!\n",
      "Camera connected!\n",
      "Camera connected!\n",
      "Camera connected!\n",
      "Camera connected!\n",
      "Camera connected!\n",
      "Camera connected!\n",
      "Camera connected!\n",
      "Camera connected!\n",
      "Camera connected!\n",
      "Camera connected!\n",
      "Camera connected!\n",
      "Camera connected!\n",
      "Camera connected!\n",
      "Camera connected!\n",
      "Camera connected!\n",
      "Camera connected!\n",
      "Camera connected!\n",
      "Camera connected!\n",
      "Camera connected!\n",
      "Camera connected!\n",
      "Camera connected!\n",
      "Camera connected!\n",
      "Camera connected!\n",
      "Camera connected!\n",
      "Camera connected!\n"
     ]
    }
   ],
   "source": [
    "cam = cv2.VideoCapture(0)\n",
    "\n",
    "cam.set(4, 1280) #cv2.cv.CV_CAP_PROP_FRAME_WIDTH\n",
    "cam.set(3, 720) #cv2.cv.CV_CAP_PROP_FRAME_HEIGHT\n",
    "\n",
    "winDowsname = \"Camera Preview\" #Set Windows Name\n",
    "cv2.namedWindow(winDowsname, cv2.WINDOW_NORMAL)\n",
    "\n",
    "while True:\n",
    "    check, frame = cam.read() #Intializing the frame, ret\n",
    "    \n",
    "    cv2.imshow(winDowsname, frame) #This will Show with the Title of Camera\n",
    "    \n",
    "    if cam.isOpened():\n",
    "        print(\"Camera connected!\")\n",
    "    else:\n",
    "        print(f\"{datetime.now().strftime('%H:%M:%S')} || Failed to connect to camera, no exception was thrown\")\n",
    "        \n",
    "    if cv2.waitKey(1) & 0xFF == ord('q'): #Press the \"Q\" button to Close the Camera Window.\n",
    "        break\n",
    "\n",
    "cam.release() #Release the Camera\n",
    "cv2.destroyAllWindows() #Stops/Shut Down the Camera Window"
   ]
  },
  {
   "cell_type": "code",
   "execution_count": 12,
   "id": "1ad8c3c9",
   "metadata": {},
   "outputs": [],
   "source": [
    "#Run Above Cell to Run Camera"
   ]
  }
 ],
 "metadata": {
  "kernelspec": {
   "display_name": "Python 3 (ipykernel)",
   "language": "python",
   "name": "python3"
  },
  "language_info": {
   "codemirror_mode": {
    "name": "ipython",
    "version": 3
   },
   "file_extension": ".py",
   "mimetype": "text/x-python",
   "name": "python",
   "nbconvert_exporter": "python",
   "pygments_lexer": "ipython3",
   "version": "3.9.13"
  }
 },
 "nbformat": 4,
 "nbformat_minor": 5
}
